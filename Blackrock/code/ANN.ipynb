{
  "cells": [
    {
      "cell_type": "code",
      "execution_count": 1,
      "metadata": {
        "colab": {
          "base_uri": "https://localhost:8080/"
        },
        "id": "YxWNoZ-x4F6p",
        "outputId": "31b589f3-e15b-4ebc-b33e-9722ccce4e83"
      },
      "outputs": [
        {
          "output_type": "stream",
          "name": "stderr",
          "text": [
            "<ipython-input-1-a0030765309d>:4: FutureWarning: The pandas.datetime class is deprecated and will be removed from pandas in a future version. Import from datetime module instead.\n",
            "  from pandas import datetime\n"
          ]
        }
      ],
      "source": [
        "import numpy as np\n",
        "import matplotlib.pyplot as plt\n",
        "import pandas as pd\n",
        "from pandas import datetime\n",
        "import math\n",
        "from math import sqrt\n",
        "from keras.models import Sequential\n",
        "from keras.layers.core import Dense, Dropout, Activation"
      ]
    },
    {
      "cell_type": "code",
      "execution_count": 2,
      "metadata": {
        "id": "xntLCZk24F6s"
      },
      "outputs": [],
      "source": [
        "def get_stock_data(normalized=0):\n",
        "    url = \"BLK.csv\"\n",
        "    col_names = ['Date','Open','High','Low','Close','Volume','Adj Close']\n",
        "    stocks = pd.read_csv('/content/BLK.csv', header=0, names=col_names) \n",
        "    df = pd.DataFrame(stocks)\n",
        "    date_split = df['Date'].str.split('-').str\n",
        "    df['Year'], df['Month'], df['Day'] = date_split\n",
        "    df[\"Volume\"] = df[\"Volume\"] / 10000\n",
        "    return df"
      ]
    },
    {
      "cell_type": "code",
      "execution_count": 6,
      "metadata": {
        "colab": {
          "base_uri": "https://localhost:8080/",
          "height": 473
        },
        "id": "SseEY-3_4F6t",
        "outputId": "754e5f9e-0b1c-4c95-ab77-be3e4000f62e"
      },
      "outputs": [
        {
          "output_type": "stream",
          "name": "stderr",
          "text": [
            "<ipython-input-2-5fb116030cd4>:7: FutureWarning: Columnar iteration over characters will be deprecated in future releases.\n",
            "  df['Year'], df['Month'], df['Day'] = date_split\n"
          ]
        },
        {
          "output_type": "execute_result",
          "data": {
            "text/plain": [
              "            Date        Open        High         Low       Close    Volume  \\\n",
              "0     1999-10-01   14.000000   14.250000   14.000000   14.125000  0.000909   \n",
              "1     1999-10-04   14.125000   14.125000   14.000000   14.000000  0.000901   \n",
              "2     1999-10-05   14.000000   14.125000   14.000000   14.125000  0.000909   \n",
              "3     1999-10-06   14.125000   14.875000   14.125000   14.875000  0.000957   \n",
              "4     1999-10-07   14.875000   14.875000   14.062500   14.125000  0.000909   \n",
              "...          ...         ...         ...         ...         ...       ...   \n",
              "5870  2023-01-31  750.000000  759.710022  746.090027  759.210022  0.075921   \n",
              "5871  2023-02-01  753.719971  768.299988  744.390015  762.630005  0.076263   \n",
              "5872  2023-02-02  763.900024  781.770020  763.140015  770.729980  0.077073   \n",
              "5873  2023-02-03  750.000000  769.809998  747.989990  757.159973  0.075716   \n",
              "5874  2023-02-06  746.979980  750.119995  738.799988  742.380005  0.074238   \n",
              "\n",
              "      Adj Close  Year Month Day  \n",
              "0       3162400  1999    10  01  \n",
              "1        533400  1999    10  04  \n",
              "2        270600  1999    10  05  \n",
              "3        205400  1999    10  06  \n",
              "4        214200  1999    10  07  \n",
              "...         ...   ...   ...  ..  \n",
              "5870     572000  2023    01  31  \n",
              "5871     702200  2023    02  01  \n",
              "5872    1101700  2023    02  02  \n",
              "5873    1201800  2023    02  03  \n",
              "5874     691500  2023    02  06  \n",
              "\n",
              "[5875 rows x 10 columns]"
            ],
            "text/html": [
              "\n",
              "  <div id=\"df-174083ce-d3e3-4edf-ab10-67a82d94884d\">\n",
              "    <div class=\"colab-df-container\">\n",
              "      <div>\n",
              "<style scoped>\n",
              "    .dataframe tbody tr th:only-of-type {\n",
              "        vertical-align: middle;\n",
              "    }\n",
              "\n",
              "    .dataframe tbody tr th {\n",
              "        vertical-align: top;\n",
              "    }\n",
              "\n",
              "    .dataframe thead th {\n",
              "        text-align: right;\n",
              "    }\n",
              "</style>\n",
              "<table border=\"1\" class=\"dataframe\">\n",
              "  <thead>\n",
              "    <tr style=\"text-align: right;\">\n",
              "      <th></th>\n",
              "      <th>Date</th>\n",
              "      <th>Open</th>\n",
              "      <th>High</th>\n",
              "      <th>Low</th>\n",
              "      <th>Close</th>\n",
              "      <th>Volume</th>\n",
              "      <th>Adj Close</th>\n",
              "      <th>Year</th>\n",
              "      <th>Month</th>\n",
              "      <th>Day</th>\n",
              "    </tr>\n",
              "  </thead>\n",
              "  <tbody>\n",
              "    <tr>\n",
              "      <th>0</th>\n",
              "      <td>1999-10-01</td>\n",
              "      <td>14.000000</td>\n",
              "      <td>14.250000</td>\n",
              "      <td>14.000000</td>\n",
              "      <td>14.125000</td>\n",
              "      <td>0.000909</td>\n",
              "      <td>3162400</td>\n",
              "      <td>1999</td>\n",
              "      <td>10</td>\n",
              "      <td>01</td>\n",
              "    </tr>\n",
              "    <tr>\n",
              "      <th>1</th>\n",
              "      <td>1999-10-04</td>\n",
              "      <td>14.125000</td>\n",
              "      <td>14.125000</td>\n",
              "      <td>14.000000</td>\n",
              "      <td>14.000000</td>\n",
              "      <td>0.000901</td>\n",
              "      <td>533400</td>\n",
              "      <td>1999</td>\n",
              "      <td>10</td>\n",
              "      <td>04</td>\n",
              "    </tr>\n",
              "    <tr>\n",
              "      <th>2</th>\n",
              "      <td>1999-10-05</td>\n",
              "      <td>14.000000</td>\n",
              "      <td>14.125000</td>\n",
              "      <td>14.000000</td>\n",
              "      <td>14.125000</td>\n",
              "      <td>0.000909</td>\n",
              "      <td>270600</td>\n",
              "      <td>1999</td>\n",
              "      <td>10</td>\n",
              "      <td>05</td>\n",
              "    </tr>\n",
              "    <tr>\n",
              "      <th>3</th>\n",
              "      <td>1999-10-06</td>\n",
              "      <td>14.125000</td>\n",
              "      <td>14.875000</td>\n",
              "      <td>14.125000</td>\n",
              "      <td>14.875000</td>\n",
              "      <td>0.000957</td>\n",
              "      <td>205400</td>\n",
              "      <td>1999</td>\n",
              "      <td>10</td>\n",
              "      <td>06</td>\n",
              "    </tr>\n",
              "    <tr>\n",
              "      <th>4</th>\n",
              "      <td>1999-10-07</td>\n",
              "      <td>14.875000</td>\n",
              "      <td>14.875000</td>\n",
              "      <td>14.062500</td>\n",
              "      <td>14.125000</td>\n",
              "      <td>0.000909</td>\n",
              "      <td>214200</td>\n",
              "      <td>1999</td>\n",
              "      <td>10</td>\n",
              "      <td>07</td>\n",
              "    </tr>\n",
              "    <tr>\n",
              "      <th>...</th>\n",
              "      <td>...</td>\n",
              "      <td>...</td>\n",
              "      <td>...</td>\n",
              "      <td>...</td>\n",
              "      <td>...</td>\n",
              "      <td>...</td>\n",
              "      <td>...</td>\n",
              "      <td>...</td>\n",
              "      <td>...</td>\n",
              "      <td>...</td>\n",
              "    </tr>\n",
              "    <tr>\n",
              "      <th>5870</th>\n",
              "      <td>2023-01-31</td>\n",
              "      <td>750.000000</td>\n",
              "      <td>759.710022</td>\n",
              "      <td>746.090027</td>\n",
              "      <td>759.210022</td>\n",
              "      <td>0.075921</td>\n",
              "      <td>572000</td>\n",
              "      <td>2023</td>\n",
              "      <td>01</td>\n",
              "      <td>31</td>\n",
              "    </tr>\n",
              "    <tr>\n",
              "      <th>5871</th>\n",
              "      <td>2023-02-01</td>\n",
              "      <td>753.719971</td>\n",
              "      <td>768.299988</td>\n",
              "      <td>744.390015</td>\n",
              "      <td>762.630005</td>\n",
              "      <td>0.076263</td>\n",
              "      <td>702200</td>\n",
              "      <td>2023</td>\n",
              "      <td>02</td>\n",
              "      <td>01</td>\n",
              "    </tr>\n",
              "    <tr>\n",
              "      <th>5872</th>\n",
              "      <td>2023-02-02</td>\n",
              "      <td>763.900024</td>\n",
              "      <td>781.770020</td>\n",
              "      <td>763.140015</td>\n",
              "      <td>770.729980</td>\n",
              "      <td>0.077073</td>\n",
              "      <td>1101700</td>\n",
              "      <td>2023</td>\n",
              "      <td>02</td>\n",
              "      <td>02</td>\n",
              "    </tr>\n",
              "    <tr>\n",
              "      <th>5873</th>\n",
              "      <td>2023-02-03</td>\n",
              "      <td>750.000000</td>\n",
              "      <td>769.809998</td>\n",
              "      <td>747.989990</td>\n",
              "      <td>757.159973</td>\n",
              "      <td>0.075716</td>\n",
              "      <td>1201800</td>\n",
              "      <td>2023</td>\n",
              "      <td>02</td>\n",
              "      <td>03</td>\n",
              "    </tr>\n",
              "    <tr>\n",
              "      <th>5874</th>\n",
              "      <td>2023-02-06</td>\n",
              "      <td>746.979980</td>\n",
              "      <td>750.119995</td>\n",
              "      <td>738.799988</td>\n",
              "      <td>742.380005</td>\n",
              "      <td>0.074238</td>\n",
              "      <td>691500</td>\n",
              "      <td>2023</td>\n",
              "      <td>02</td>\n",
              "      <td>06</td>\n",
              "    </tr>\n",
              "  </tbody>\n",
              "</table>\n",
              "<p>5875 rows × 10 columns</p>\n",
              "</div>\n",
              "      <button class=\"colab-df-convert\" onclick=\"convertToInteractive('df-174083ce-d3e3-4edf-ab10-67a82d94884d')\"\n",
              "              title=\"Convert this dataframe to an interactive table.\"\n",
              "              style=\"display:none;\">\n",
              "        \n",
              "  <svg xmlns=\"http://www.w3.org/2000/svg\" height=\"24px\"viewBox=\"0 0 24 24\"\n",
              "       width=\"24px\">\n",
              "    <path d=\"M0 0h24v24H0V0z\" fill=\"none\"/>\n",
              "    <path d=\"M18.56 5.44l.94 2.06.94-2.06 2.06-.94-2.06-.94-.94-2.06-.94 2.06-2.06.94zm-11 1L8.5 8.5l.94-2.06 2.06-.94-2.06-.94L8.5 2.5l-.94 2.06-2.06.94zm10 10l.94 2.06.94-2.06 2.06-.94-2.06-.94-.94-2.06-.94 2.06-2.06.94z\"/><path d=\"M17.41 7.96l-1.37-1.37c-.4-.4-.92-.59-1.43-.59-.52 0-1.04.2-1.43.59L10.3 9.45l-7.72 7.72c-.78.78-.78 2.05 0 2.83L4 21.41c.39.39.9.59 1.41.59.51 0 1.02-.2 1.41-.59l7.78-7.78 2.81-2.81c.8-.78.8-2.07 0-2.86zM5.41 20L4 18.59l7.72-7.72 1.47 1.35L5.41 20z\"/>\n",
              "  </svg>\n",
              "      </button>\n",
              "      \n",
              "  <style>\n",
              "    .colab-df-container {\n",
              "      display:flex;\n",
              "      flex-wrap:wrap;\n",
              "      gap: 12px;\n",
              "    }\n",
              "\n",
              "    .colab-df-convert {\n",
              "      background-color: #E8F0FE;\n",
              "      border: none;\n",
              "      border-radius: 50%;\n",
              "      cursor: pointer;\n",
              "      display: none;\n",
              "      fill: #1967D2;\n",
              "      height: 32px;\n",
              "      padding: 0 0 0 0;\n",
              "      width: 32px;\n",
              "    }\n",
              "\n",
              "    .colab-df-convert:hover {\n",
              "      background-color: #E2EBFA;\n",
              "      box-shadow: 0px 1px 2px rgba(60, 64, 67, 0.3), 0px 1px 3px 1px rgba(60, 64, 67, 0.15);\n",
              "      fill: #174EA6;\n",
              "    }\n",
              "\n",
              "    [theme=dark] .colab-df-convert {\n",
              "      background-color: #3B4455;\n",
              "      fill: #D2E3FC;\n",
              "    }\n",
              "\n",
              "    [theme=dark] .colab-df-convert:hover {\n",
              "      background-color: #434B5C;\n",
              "      box-shadow: 0px 1px 3px 1px rgba(0, 0, 0, 0.15);\n",
              "      filter: drop-shadow(0px 1px 2px rgba(0, 0, 0, 0.3));\n",
              "      fill: #FFFFFF;\n",
              "    }\n",
              "  </style>\n",
              "\n",
              "      <script>\n",
              "        const buttonEl =\n",
              "          document.querySelector('#df-174083ce-d3e3-4edf-ab10-67a82d94884d button.colab-df-convert');\n",
              "        buttonEl.style.display =\n",
              "          google.colab.kernel.accessAllowed ? 'block' : 'none';\n",
              "\n",
              "        async function convertToInteractive(key) {\n",
              "          const element = document.querySelector('#df-174083ce-d3e3-4edf-ab10-67a82d94884d');\n",
              "          const dataTable =\n",
              "            await google.colab.kernel.invokeFunction('convertToInteractive',\n",
              "                                                     [key], {});\n",
              "          if (!dataTable) return;\n",
              "\n",
              "          const docLinkHtml = 'Like what you see? Visit the ' +\n",
              "            '<a target=\"_blank\" href=https://colab.research.google.com/notebooks/data_table.ipynb>data table notebook</a>'\n",
              "            + ' to learn more about interactive tables.';\n",
              "          element.innerHTML = '';\n",
              "          dataTable['output_type'] = 'display_data';\n",
              "          await google.colab.output.renderOutput(dataTable, element);\n",
              "          const docLink = document.createElement('div');\n",
              "          docLink.innerHTML = docLinkHtml;\n",
              "          element.appendChild(docLink);\n",
              "        }\n",
              "      </script>\n",
              "    </div>\n",
              "  </div>\n",
              "  "
            ]
          },
          "metadata": {},
          "execution_count": 6
        }
      ],
      "source": [
        "df=get_stock_data(0)\n",
        "df"
      ]
    },
    {
      "cell_type": "code",
      "execution_count": 7,
      "metadata": {
        "colab": {
          "base_uri": "https://localhost:8080/",
          "height": 204
        },
        "id": "Y4TOByqn4F6t",
        "outputId": "f4d70a6d-1d65-4312-bf14-9072a6c69253"
      },
      "outputs": [
        {
          "output_type": "execute_result",
          "data": {
            "text/plain": [
              "     Open    High   Close    Volume\n",
              "0  14.000  14.250  14.125  0.000909\n",
              "1  14.125  14.125  14.000  0.000901\n",
              "2  14.000  14.125  14.125  0.000909\n",
              "3  14.125  14.875  14.875  0.000957\n",
              "4  14.875  14.875  14.125  0.000909"
            ],
            "text/html": [
              "\n",
              "  <div id=\"df-ab9311cc-6598-4a84-88aa-1e796e4190cb\">\n",
              "    <div class=\"colab-df-container\">\n",
              "      <div>\n",
              "<style scoped>\n",
              "    .dataframe tbody tr th:only-of-type {\n",
              "        vertical-align: middle;\n",
              "    }\n",
              "\n",
              "    .dataframe tbody tr th {\n",
              "        vertical-align: top;\n",
              "    }\n",
              "\n",
              "    .dataframe thead th {\n",
              "        text-align: right;\n",
              "    }\n",
              "</style>\n",
              "<table border=\"1\" class=\"dataframe\">\n",
              "  <thead>\n",
              "    <tr style=\"text-align: right;\">\n",
              "      <th></th>\n",
              "      <th>Open</th>\n",
              "      <th>High</th>\n",
              "      <th>Close</th>\n",
              "      <th>Volume</th>\n",
              "    </tr>\n",
              "  </thead>\n",
              "  <tbody>\n",
              "    <tr>\n",
              "      <th>0</th>\n",
              "      <td>14.000</td>\n",
              "      <td>14.250</td>\n",
              "      <td>14.125</td>\n",
              "      <td>0.000909</td>\n",
              "    </tr>\n",
              "    <tr>\n",
              "      <th>1</th>\n",
              "      <td>14.125</td>\n",
              "      <td>14.125</td>\n",
              "      <td>14.000</td>\n",
              "      <td>0.000901</td>\n",
              "    </tr>\n",
              "    <tr>\n",
              "      <th>2</th>\n",
              "      <td>14.000</td>\n",
              "      <td>14.125</td>\n",
              "      <td>14.125</td>\n",
              "      <td>0.000909</td>\n",
              "    </tr>\n",
              "    <tr>\n",
              "      <th>3</th>\n",
              "      <td>14.125</td>\n",
              "      <td>14.875</td>\n",
              "      <td>14.875</td>\n",
              "      <td>0.000957</td>\n",
              "    </tr>\n",
              "    <tr>\n",
              "      <th>4</th>\n",
              "      <td>14.875</td>\n",
              "      <td>14.875</td>\n",
              "      <td>14.125</td>\n",
              "      <td>0.000909</td>\n",
              "    </tr>\n",
              "  </tbody>\n",
              "</table>\n",
              "</div>\n",
              "      <button class=\"colab-df-convert\" onclick=\"convertToInteractive('df-ab9311cc-6598-4a84-88aa-1e796e4190cb')\"\n",
              "              title=\"Convert this dataframe to an interactive table.\"\n",
              "              style=\"display:none;\">\n",
              "        \n",
              "  <svg xmlns=\"http://www.w3.org/2000/svg\" height=\"24px\"viewBox=\"0 0 24 24\"\n",
              "       width=\"24px\">\n",
              "    <path d=\"M0 0h24v24H0V0z\" fill=\"none\"/>\n",
              "    <path d=\"M18.56 5.44l.94 2.06.94-2.06 2.06-.94-2.06-.94-.94-2.06-.94 2.06-2.06.94zm-11 1L8.5 8.5l.94-2.06 2.06-.94-2.06-.94L8.5 2.5l-.94 2.06-2.06.94zm10 10l.94 2.06.94-2.06 2.06-.94-2.06-.94-.94-2.06-.94 2.06-2.06.94z\"/><path d=\"M17.41 7.96l-1.37-1.37c-.4-.4-.92-.59-1.43-.59-.52 0-1.04.2-1.43.59L10.3 9.45l-7.72 7.72c-.78.78-.78 2.05 0 2.83L4 21.41c.39.39.9.59 1.41.59.51 0 1.02-.2 1.41-.59l7.78-7.78 2.81-2.81c.8-.78.8-2.07 0-2.86zM5.41 20L4 18.59l7.72-7.72 1.47 1.35L5.41 20z\"/>\n",
              "  </svg>\n",
              "      </button>\n",
              "      \n",
              "  <style>\n",
              "    .colab-df-container {\n",
              "      display:flex;\n",
              "      flex-wrap:wrap;\n",
              "      gap: 12px;\n",
              "    }\n",
              "\n",
              "    .colab-df-convert {\n",
              "      background-color: #E8F0FE;\n",
              "      border: none;\n",
              "      border-radius: 50%;\n",
              "      cursor: pointer;\n",
              "      display: none;\n",
              "      fill: #1967D2;\n",
              "      height: 32px;\n",
              "      padding: 0 0 0 0;\n",
              "      width: 32px;\n",
              "    }\n",
              "\n",
              "    .colab-df-convert:hover {\n",
              "      background-color: #E2EBFA;\n",
              "      box-shadow: 0px 1px 2px rgba(60, 64, 67, 0.3), 0px 1px 3px 1px rgba(60, 64, 67, 0.15);\n",
              "      fill: #174EA6;\n",
              "    }\n",
              "\n",
              "    [theme=dark] .colab-df-convert {\n",
              "      background-color: #3B4455;\n",
              "      fill: #D2E3FC;\n",
              "    }\n",
              "\n",
              "    [theme=dark] .colab-df-convert:hover {\n",
              "      background-color: #434B5C;\n",
              "      box-shadow: 0px 1px 3px 1px rgba(0, 0, 0, 0.15);\n",
              "      filter: drop-shadow(0px 1px 2px rgba(0, 0, 0, 0.3));\n",
              "      fill: #FFFFFF;\n",
              "    }\n",
              "  </style>\n",
              "\n",
              "      <script>\n",
              "        const buttonEl =\n",
              "          document.querySelector('#df-ab9311cc-6598-4a84-88aa-1e796e4190cb button.colab-df-convert');\n",
              "        buttonEl.style.display =\n",
              "          google.colab.kernel.accessAllowed ? 'block' : 'none';\n",
              "\n",
              "        async function convertToInteractive(key) {\n",
              "          const element = document.querySelector('#df-ab9311cc-6598-4a84-88aa-1e796e4190cb');\n",
              "          const dataTable =\n",
              "            await google.colab.kernel.invokeFunction('convertToInteractive',\n",
              "                                                     [key], {});\n",
              "          if (!dataTable) return;\n",
              "\n",
              "          const docLinkHtml = 'Like what you see? Visit the ' +\n",
              "            '<a target=\"_blank\" href=https://colab.research.google.com/notebooks/data_table.ipynb>data table notebook</a>'\n",
              "            + ' to learn more about interactive tables.';\n",
              "          element.innerHTML = '';\n",
              "          dataTable['output_type'] = 'display_data';\n",
              "          await google.colab.output.renderOutput(dataTable, element);\n",
              "          const docLink = document.createElement('div');\n",
              "          docLink.innerHTML = docLinkHtml;\n",
              "          element.appendChild(docLink);\n",
              "        }\n",
              "      </script>\n",
              "    </div>\n",
              "  </div>\n",
              "  "
            ]
          },
          "metadata": {},
          "execution_count": 7
        }
      ],
      "source": [
        "df.drop(df.columns[[0,3,6, 7,8,9]], axis=1, inplace=True)\n",
        "df.head()"
      ]
    },
    {
      "cell_type": "code",
      "execution_count": 8,
      "metadata": {
        "colab": {
          "base_uri": "https://localhost:8080/"
        },
        "id": "rJuMKPr24F6t",
        "outputId": "d643380b-1131-4ef8-da10-ab54c3096c75"
      },
      "outputs": [
        {
          "output_type": "stream",
          "name": "stdout",
          "text": [
            "         Open     High    Close    Volume\n",
            "0     0.14000  0.14250  0.14125  0.090870\n",
            "1     0.14125  0.14125  0.14000  0.090065\n",
            "2     0.14000  0.14125  0.14125  0.090870\n",
            "3     0.14125  0.14875  0.14875  0.095695\n",
            "4     0.14875  0.14875  0.14125  0.090870\n",
            "...       ...      ...      ...       ...\n",
            "5870  7.50000  7.59710  7.59210  7.592100\n",
            "5871  7.53720  7.68300  7.62630  7.626300\n",
            "5872  7.63900  7.81770  7.70730  7.707300\n",
            "5873  7.50000  7.69810  7.57160  7.571600\n",
            "5874  7.46980  7.50120  7.42380  7.423800\n",
            "\n",
            "[5875 rows x 4 columns]\n"
          ]
        }
      ],
      "source": [
        "df['Open'] = df['Open']/100\n",
        "df['High'] = df['High']/100\n",
        "df['Volume'] = df['Volume']*100\n",
        "df['Close'] = df['Close']/100\n",
        "print(df)\n",
        "nan_value_index = []\n",
        "High = df.High.isnull()\n",
        "for i in range(0, len(High)):\n",
        "    if High[i] == 1:\n",
        "        nan_value_index.append(i)\n",
        "        df['High'][i] = 0\n",
        "Open = df.Open.isnull()\n",
        "for i in range(0, len(Open)):\n",
        "    if Open[i] == 1:\n",
        "        nan_value_index.append(i)\n",
        "        df['Open'][i] = 0\n",
        "Volume = df.Volume.isnull()\n",
        "for i in range(0, len(Volume)):\n",
        "    if Volume[i] == 1:\n",
        "        nan_value_index.append(i)\n",
        "        df['Volume'][i] = 0\n",
        "Close = df.Close.isnull()\n",
        "for i in range(0, len(Close)):\n",
        "    if Close[i] == 1:\n",
        "        nan_value_index.append(i)\n",
        "        df['Close'][i] = 0"
      ]
    },
    {
      "cell_type": "code",
      "execution_count": 9,
      "metadata": {
        "id": "2vEDx07Q4F6t"
      },
      "outputs": [],
      "source": [
        "X = df[['High','Open', 'Volume']]\n",
        "Y = df[['Close']]\n",
        "factor = 0.80\n",
        "length = X.shape[0]\n",
        "total_for_train = int(length*factor)\n",
        "X_train = X[:total_for_train]\n",
        "Y_train = Y[:total_for_train]\n",
        "X_test = X[total_for_train:]\n",
        "Y_test = Y[total_for_train:]"
      ]
    },
    {
      "cell_type": "code",
      "execution_count": 10,
      "metadata": {
        "colab": {
          "base_uri": "https://localhost:8080/"
        },
        "id": "2mb70K1A4F6u",
        "outputId": "5ae7567e-fbe3-4bbe-8947-17eeb7865ddc"
      },
      "outputs": [
        {
          "output_type": "stream",
          "name": "stdout",
          "text": [
            "X_train (4700, 3)\n",
            "y_train (4700, 1)\n",
            "X_test (1175, 3)\n",
            "y_test (1175, 1)\n"
          ]
        }
      ],
      "source": [
        "print(\"X_train\", X_train.shape)\n",
        "print(\"y_train\", Y_train.shape)\n",
        "print(\"X_test\", X_test.shape)\n",
        "print(\"y_test\", Y_test.shape)"
      ]
    },
    {
      "cell_type": "code",
      "execution_count": 11,
      "metadata": {
        "colab": {
          "base_uri": "https://localhost:8080/"
        },
        "id": "5Lt8eYQK4F6u",
        "outputId": "44887611-5423-4a70-a6ca-23bced071a22"
      },
      "outputs": [
        {
          "output_type": "stream",
          "name": "stdout",
          "text": [
            "Epoch 1/10\n",
            "35/35 [==============================] - 1s 8ms/step - loss: 3.9624 - val_loss: 22.6653\n",
            "Epoch 2/10\n",
            "35/35 [==============================] - 0s 4ms/step - loss: 3.0018 - val_loss: 12.8005\n",
            "Epoch 3/10\n",
            "35/35 [==============================] - 0s 3ms/step - loss: 0.8481 - val_loss: 0.6130\n",
            "Epoch 4/10\n",
            "35/35 [==============================] - 0s 4ms/step - loss: 0.0548 - val_loss: 0.0912\n",
            "Epoch 5/10\n",
            "35/35 [==============================] - 0s 3ms/step - loss: 0.0405 - val_loss: 0.1098\n",
            "Epoch 6/10\n",
            "35/35 [==============================] - 0s 3ms/step - loss: 0.0335 - val_loss: 0.0798\n",
            "Epoch 7/10\n",
            "35/35 [==============================] - 0s 4ms/step - loss: 0.0272 - val_loss: 0.0552\n",
            "Epoch 8/10\n",
            "35/35 [==============================] - 0s 3ms/step - loss: 0.0216 - val_loss: 0.0382\n",
            "Epoch 9/10\n",
            "35/35 [==============================] - 0s 4ms/step - loss: 0.0169 - val_loss: 0.0257\n",
            "Epoch 10/10\n",
            "35/35 [==============================] - 0s 3ms/step - loss: 0.0130 - val_loss: 0.0164\n"
          ]
        },
        {
          "output_type": "execute_result",
          "data": {
            "text/plain": [
              "<keras.callbacks.History at 0x7f982b6124f0>"
            ]
          },
          "metadata": {},
          "execution_count": 11
        }
      ],
      "source": [
        "classifier = Sequential()\n",
        "classifier.add(Dense(units = 32, kernel_initializer = 'uniform', activation = 'relu', input_dim = 3))\n",
        "classifier.add(Dense(units = 10, kernel_initializer = 'uniform', activation = 'relu'))\n",
        "classifier.add(Dense(units = 1, kernel_initializer = 'uniform', activation = 'linear'))\n",
        "classifier.compile(optimizer = 'adam', loss = 'mean_squared_error', metrics = [])\n",
        "classifier.fit(X_train, Y_train, batch_size = 128, epochs = 10, validation_split=0.05)"
      ]
    },
    {
      "cell_type": "code",
      "execution_count": 12,
      "metadata": {
        "colab": {
          "base_uri": "https://localhost:8080/"
        },
        "id": "q55QR9MZ4F6u",
        "outputId": "b7d78522-8df7-4f65-9612-c7f37a958d61"
      },
      "outputs": [
        {
          "output_type": "stream",
          "name": "stdout",
          "text": [
            "37/37 [==============================] - 1s 11ms/step\n",
            "[[5.3795214]\n",
            " [5.3321185]\n",
            " [5.3509216]\n",
            " [5.3485894]\n",
            " [5.273204 ]\n",
            " [5.152718 ]\n",
            " [5.0981045]\n",
            " [5.125152 ]\n",
            " [5.1170073]\n",
            " [5.1432853]]\n"
          ]
        }
      ],
      "source": [
        "predictions = classifier.predict(X_test)\n",
        "print(predictions[:10])"
      ]
    },
    {
      "cell_type": "code",
      "execution_count": 13,
      "metadata": {
        "colab": {
          "base_uri": "https://localhost:8080/"
        },
        "id": "1fXvKaKe4F6v",
        "outputId": "a24afec5-9f40-4b51-8b0a-d5a64ef805d0"
      },
      "outputs": [
        {
          "output_type": "stream",
          "name": "stdout",
          "text": [
            "Train Score: 0.01 MSE (0.11 RMSE)\n",
            "Test Score: 0.01 MSE (0.10 RMSE)\n"
          ]
        }
      ],
      "source": [
        "trainScore = classifier.evaluate(X_train, Y_train, verbose=0)\n",
        "print('Train Score: %.2f MSE (%.2f RMSE)' % (trainScore, math.sqrt(trainScore)))\n",
        "testScore = classifier.evaluate(X_test, Y_test, verbose=0)\n",
        "print('Test Score: %.2f MSE (%.2f RMSE)' % (testScore, math.sqrt(testScore)))"
      ]
    },
    {
      "cell_type": "code",
      "execution_count": 14,
      "metadata": {
        "colab": {
          "base_uri": "https://localhost:8080/",
          "height": 516
        },
        "id": "q_nbRvEv4F6v",
        "outputId": "a8f22451-a08f-42e8-b573-7387b16edd8d"
      },
      "outputs": [
        {
          "output_type": "display_data",
          "data": {
            "text/plain": [
              "<Figure size 432x288 with 1 Axes>"
            ],
            "image/png": "[encoded data removed]"
          },
          "metadata": {
            "needs_background": "light"
          }
        },
        {
          "output_type": "display_data",
          "data": {
            "text/plain": [
              "<Figure size 432x288 with 1 Axes>"
            ],
            "image/png": "[encoded data removed]"
          },
          "metadata": {
            "needs_background": "light"
          }
        }
      ],
      "source": [
        "import matplotlib.pyplot as plt\n",
        "plt.plot(predictions,color='red', label='Predictions from the trained model')\n",
        "plt.legend(loc='upper left')\n",
        "plt.show()\n",
        "plt.plot(Y_test,color='blue', label='Read values for the stock')\n",
        "plt.legend(loc='upper left')\n",
        "plt.show()"
      ]
    },
    {
      "cell_type": "code",
      "execution_count": null,
      "metadata": {
        "id": "Iu1R2P094F6v"
      },
      "outputs": [],
      "source": []
    },
    {
      "cell_type": "code",
      "execution_count": null,
      "metadata": {
        "id": "tQ0FkD504F6v"
      },
      "outputs": [],
      "source": []
    },
    {
      "cell_type": "code",
      "execution_count": null,
      "metadata": {
        "id": "ukevNp_N4F6v"
      },
      "outputs": [],
      "source": []
    },
    {
      "cell_type": "code",
      "execution_count": null,
      "metadata": {
        "id": "7rXZkrcG4F6w"
      },
      "outputs": [],
      "source": []
    },
    {
      "cell_type": "code",
      "execution_count": null,
      "metadata": {
        "id": "Vv_HqMBe4F6w"
      },
      "outputs": [],
      "source": []
    },
    {
      "cell_type": "code",
      "execution_count": null,
      "metadata": {
        "id": "oU3chDxA4F6x"
      },
      "outputs": [],
      "source": []
    },
    {
      "cell_type": "code",
      "execution_count": null,
      "metadata": {
        "id": "yjT-qkhM4F6x"
      },
      "outputs": [],
      "source": []
    },
    {
      "cell_type": "code",
      "execution_count": null,
      "metadata": {
        "id": "VpAATEKd4F6x"
      },
      "outputs": [],
      "source": []
    },
    {
      "cell_type": "code",
      "execution_count": null,
      "metadata": {
        "id": "kFZ8iKap4F6x"
      },
      "outputs": [],
      "source": []
    },
    {
      "cell_type": "code",
      "execution_count": null,
      "metadata": {
        "id": "hkyfCtT54F6y"
      },
      "outputs": [],
      "source": []
    },
    {
      "cell_type": "code",
      "execution_count": null,
      "metadata": {
        "id": "oymIdW4j4F6y"
      },
      "outputs": [],
      "source": []
    },
    {
      "cell_type": "code",
      "execution_count": null,
      "metadata": {
        "id": "ik7DpYM-4F6y"
      },
      "outputs": [],
      "source": []
    }
  ],
  "metadata": {
    "kernelspec": {
      "display_name": "tf",
      "language": "python",
      "name": "python3"
    },
    "language_info": {
      "codemirror_mode": {
        "name": "ipython",
        "version": 3
      },
      "file_extension": ".py",
      "mimetype": "text/x-python",
      "name": "python",
      "nbconvert_exporter": "python",
      "pygments_lexer": "ipython3",
      "version": "3.7.12"
    },
    "orig_nbformat": 4,
    "vscode": {
      "interpreter": {
        "hash": "aa761e064b0c8edb065a2bae1900efbb241a49e1943dc5812fb8ae1d5a20512a"
      }
    },
    "colab": {
      "provenance": []
    }
  },
  "nbformat": 4,
  "nbformat_minor": 0
}